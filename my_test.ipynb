{
 "cells": [
  {
   "cell_type": "code",
   "execution_count": 1,
   "metadata": {},
   "outputs": [
    {
     "data": {
      "text/plain": [
       "[('ice skating', 0.0055237943),\n",
       " ('riding scooter', 0.0046825884),\n",
       " ('egg hunting', 0.004336426),\n",
       " ('playing cards', 0.004324912),\n",
       " ('setting table', 0.004263404)]"
      ]
     },
     "execution_count": 1,
     "metadata": {},
     "output_type": "execute_result"
    }
   ],
   "source": [
    "import torch\n",
    "\n",
    "from mmaction.apis import init_recognizer, inference_recognizer\n",
    "\n",
    "config_file = 'configs/recognition/swin/swin_base_patch244_window877_kinetics400_22k.py'\n",
    "device = 'cuda:0' # or 'cpu'\n",
    "device = torch.device(device)\n",
    "\n",
    "model = init_recognizer(config_file, device=device)\n",
    "# inference the demo video\n",
    "inference_recognizer(model, 'demo/demo.mp4', 'demo/label_map_k400.txt')"
   ]
  }
 ],
 "metadata": {
  "interpreter": {
   "hash": "11cf9a6592ed12198fdb49b22730265bc61733ec966563ebb3d9cee7fd1895c6"
  },
  "kernelspec": {
   "display_name": "Python 3.7.10 64-bit ('open-mmlab': conda)",
   "name": "python3"
  },
  "language_info": {
   "codemirror_mode": {
    "name": "ipython",
    "version": 3
   },
   "file_extension": ".py",
   "mimetype": "text/x-python",
   "name": "python",
   "nbconvert_exporter": "python",
   "pygments_lexer": "ipython3",
   "version": "3.7.10"
  },
  "orig_nbformat": 4
 },
 "nbformat": 4,
 "nbformat_minor": 2
}
